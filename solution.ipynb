{
 "cells": [
  {
   "cell_type": "code",
   "execution_count": 5,
   "id": "54ad5343",
   "metadata": {},
   "outputs": [],
   "source": [
    "# Libraries\n",
    "import pandas as pd"
   ]
  },
  {
   "cell_type": "code",
   "execution_count": 106,
   "id": "bbb7b463",
   "metadata": {},
   "outputs": [],
   "source": [
    "# CSV Sources\n",
    "\n",
    "properties_cols = ['property_id','latitude','longitude','localidad', 'city', 'country']\n",
    "df_properties = pd.read_csv('sources\\properties.csv', usecols = properties_cols, converters = {'localidad': lambda x: (x.replace('\\xad','').title())}) # converters used to clean the locality column, Chí­A -> Chí­a\n",
    "\n",
    "users_cols = ['property_id','user_id']\n",
    "df_users = pd.read_csv('sources\\\\users.csv', usecols = users_cols)\n",
    "\n",
    "users_cols = ['scheduled_id','property_id','begin_date','end_date','status']\n",
    "df_visits = pd.read_csv('sources\\\\visits.csv', usecols = users_cols)"
   ]
  },
  {
   "cell_type": "code",
   "execution_count": null,
   "id": "272bedc6",
   "metadata": {},
   "outputs": [],
   "source": []
  }
 ],
 "metadata": {
  "kernelspec": {
   "display_name": "Python 3 (ipykernel)",
   "language": "python",
   "name": "python3"
  },
  "language_info": {
   "codemirror_mode": {
    "name": "ipython",
    "version": 3
   },
   "file_extension": ".py",
   "mimetype": "text/x-python",
   "name": "python",
   "nbconvert_exporter": "python",
   "pygments_lexer": "ipython3",
   "version": "3.7.8"
  }
 },
 "nbformat": 4,
 "nbformat_minor": 5
}
