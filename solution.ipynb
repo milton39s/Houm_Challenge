{
 "cells": [
  {
   "cell_type": "code",
   "execution_count": 11,
   "id": "54ad5343",
   "metadata": {},
   "outputs": [],
   "source": [
    "# Libraries\n",
    "import pandas as pd\n",
    "from datetime import datetime, timedelta\n",
    "import dateutil.parser as parser"
   ]
  },
  {
   "cell_type": "code",
   "execution_count": 50,
   "id": "bbb7b463",
   "metadata": {},
   "outputs": [],
   "source": [
    "# CSV Sources\n",
    "\n",
    "properties_cols = ['property_id','latitude','longitude','localidad', 'city', 'country']\n",
    "convert_pro = lambda x: (x.replace('\\xad','').title())  # function used to clean the locality column, Chí­A -> Chí­a\n",
    "df_properties = pd.read_csv('sources\\properties.csv', usecols = properties_cols, converters = {'localidad':convert_pro})\n",
    "\n",
    "users_cols = ['property_id','user_id']\n",
    "df_users = pd.read_csv('sources\\\\users.csv', usecols = users_cols)\n",
    "\n",
    "visits_cols = ['scheduled_id','property_id','begin_date','end_date','status']\n",
    "convert_vis = lambda x: (parser.parse(x) + timedelta(hours=2))  # function used to change the time UTC-3 to UTC-5 (Colombian time) in datetime columns\n",
    "df_visits = pd.read_csv('sources\\\\visits.csv', usecols = visits_cols, converters = {'begin_date':convert_vis,'end_date':convert_vis })\n",
    "df_visits['visit_date'] = df_visits['begin_date'].apply(lambda x: datetime.strftime(x, \"%Y-%m-%d\"))\n",
    "\n"
   ]
  },
  {
   "cell_type": "code",
   "execution_count": 10,
   "id": "272bedc6",
   "metadata": {},
   "outputs": [
    {
     "data": {
      "text/plain": [
       "'357'"
      ]
     },
     "execution_count": 10,
     "metadata": {},
     "output_type": "execute_result"
    }
   ],
   "source": [
    "API_KEY = '2DAAC28RT2V8Q2SWYQVXV3DZF'\n",
    "\n",
    "import requests\n",
    "\n",
    "l = ['Content-Type','Content-Length']\n",
    "response = requests.get(\"https://api.thedogapi.com/v1/breeds/1\")\n",
    "response.headers.get('Content-Length')\n"
   ]
  },
  {
   "cell_type": "code",
   "execution_count": 8,
   "id": "77ab99e6",
   "metadata": {},
   "outputs": [
    {
     "data": {
      "text/plain": [
       "{'x-dns-prefetch-control': 'off', 'x-frame-options': 'SAMEORIGIN', 'strict-transport-security': 'max-age=15552000; includeSubDomains', 'x-download-options': 'noopen', 'x-content-type-options': 'nosniff', 'x-xss-protection': '1; mode=block', 'vary': 'Origin', 'content-type': 'application/json; charset=utf-8', 'x-response-time': '2ms', 'X-Cloud-Trace-Context': '43152d9569f810ab43c090d82934246f', 'Date': 'Sun, 17 Apr 2022 05:38:48 GMT', 'Server': 'Google Frontend', 'Content-Length': '357'}"
      ]
     },
     "execution_count": 8,
     "metadata": {},
     "output_type": "execute_result"
    }
   ],
   "source": [
    "response.headers"
   ]
  }
 ],
 "metadata": {
  "kernelspec": {
   "display_name": "Python 3 (ipykernel)",
   "language": "python",
   "name": "python3"
  },
  "language_info": {
   "codemirror_mode": {
    "name": "ipython",
    "version": 3
   },
   "file_extension": ".py",
   "mimetype": "text/x-python",
   "name": "python",
   "nbconvert_exporter": "python",
   "pygments_lexer": "ipython3",
   "version": "3.7.8"
  }
 },
 "nbformat": 4,
 "nbformat_minor": 5
}
