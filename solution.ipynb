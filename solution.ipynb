{
 "cells": [
  {
   "cell_type": "code",
   "execution_count": 1,
   "id": "54ad5343",
   "metadata": {},
   "outputs": [],
   "source": [
    "# Import libraries\n",
    "\n",
    "import pandas as pd\n",
    "from datetime import datetime, timedelta\n",
    "import dateutil.parser as parser\n",
    "import requests\n",
    "from pandasql import sqldf\n"
   ]
  },
  {
   "cell_type": "code",
   "execution_count": 2,
   "id": "bbb7b463",
   "metadata": {},
   "outputs": [],
   "source": [
    "# Read and clean CSV Sources\n",
    "\n",
    "# Properties:\n",
    "properties_cols = ['property_id','latitude','longitude','localidad', 'city', 'country']\n",
    "convert_pro = lambda x: (x.replace('\\xad','').title())  # function used to clean the locality column, Chí­A -> Chí­a\n",
    "df_properties = pd.read_csv('sources\\properties.csv', usecols = properties_cols, converters = {'localidad':convert_pro})\n",
    "\n",
    "# Users:\n",
    "users_cols = ['property_id','user_id']\n",
    "df_users = pd.read_csv('sources\\\\users.csv', usecols = users_cols)\n",
    "\n",
    "# Visits:\n",
    "visits_cols = ['scheduled_id','property_id','begin_date','status']  # only the begin_date is used to query the api\n",
    "convert_vis = lambda x: (parser.parse(x) + timedelta(hours=2))  # function used to change the time UTC-3 to UTC-5 (Colombian time) in begin_date column\n",
    "df_visits = pd.read_csv('sources\\\\visits.csv', usecols = visits_cols, converters = {'begin_date': convert_vis})\n",
    "df_visits['visit_date'] = df_visits['begin_date'].apply(lambda x: datetime.strftime(x, \"%Y-%m-%d\"))\n",
    "df_visits = df_visits.drop(columns='begin_date')\n"
   ]
  },
  {
   "cell_type": "code",
   "execution_count": 3,
   "id": "11d10ae4",
   "metadata": {},
   "outputs": [],
   "source": [
    "# Join CSV sources to create df_base and extend the visit's information\n",
    "\n",
    "df_base = pd.merge(df_properties,df_visits, on='property_id', how='left')\n",
    "df_base = pd.merge(df_base,df_users, on='property_id', how='left')\n",
    "df_base['key_api'] = df_base['latitude'].map(str)+','+df_base['longitude'].map(str)+'/'+df_base['visit_date'].map(str)  # create a new column with a key to api process\n"
   ]
  },
  {
   "cell_type": "code",
   "execution_count": 4,
   "id": "397a7003",
   "metadata": {},
   "outputs": [],
   "source": [
    "# Get data from API\n",
    "\n",
    "def rainy_day(conditions):\n",
    "    rain_conditions = ['type_21','type_5','type_6','type_9','type_10','type_11','type_13',\\\n",
    "                       'type_14','type_22','type_23','type_24','type_25','type_26','type_32']\n",
    "    conditions_list = [i.strip() for i in conditions.split(',')]\n",
    "    \n",
    "    for i in conditions_list:\n",
    "        if i in rain_conditions:\n",
    "            return True\n",
    "    \n",
    "    return False\n",
    "\n",
    "\n",
    "def request(key):\n",
    "    API_KEY = '2DAAC28RT2V8Q2SWYQVXV3DZF'\n",
    "    endpoint = f'https://weather.visualcrossing.com/VisualCrossingWebServices/rest/services/timeline/{key}'\n",
    "    query_params = {'unitGroup':'metric', 'key':API_KEY, 'include':'days','lang':'id'}\n",
    "    \n",
    "    response = requests.get(endpoint, params=query_params).json()\n",
    "\n",
    "    temp = response['days'][0]['temp']\n",
    "    weather = rainy_day(response['days'][0]['conditions'])\n",
    "\n",
    "    return [temp, weather]\n",
    "\n",
    "\n",
    "df_base_dd = df_base['key_api'].drop_duplicates().to_frame()  # Remove duplicates to reduce API requests and records cost. Visits with the same property and date have the same temperature and weather\n",
    "\n",
    "# API request:\n",
    "df_base_dd['api_response'] = df_base_dd['key_api'].apply(lambda key: request(key))  \n",
    "\n",
    "# Get average temperature and info regarding rainy days (boolean, True = Rainy day):\n",
    "df_base_dd['temperature'] = df_base_dd['api_response'].apply(lambda x: x[0])\n",
    "df_base_dd['rainy_day'] = df_base_dd['api_response'].apply(lambda x: x[1])\n",
    "df_base_dd_data = df_base_dd.drop(columns='api_response')\n"
   ]
  },
  {
   "cell_type": "code",
   "execution_count": 5,
   "id": "ca84955f",
   "metadata": {},
   "outputs": [],
   "source": [
    "# Create df_master with information to response challenge questions \n",
    "\n",
    "df_master = pd.merge(df_base,df_base_dd_data, on='key_api', how='left')\n",
    "df_master = df_master.drop(columns=['latitude','longitude','key_api'])"
   ]
  },
  {
   "cell_type": "markdown",
   "id": "9c0ff979",
   "metadata": {},
   "source": [
    "## Challenge questions:"
   ]
  },
  {
   "cell_type": "code",
   "execution_count": 6,
   "id": "0a9376cc",
   "metadata": {},
   "outputs": [
    {
     "name": "stdout",
     "output_type": "stream",
     "text": [
      "1. ¿Cuántas visitas se realizaron en total?\n",
      "    Rta: Se realizaron 139 visitas sobre un total de 425 visitas programadas, es decir, se llevo a cabo el 32.71% de las visitas programadas. \n",
      "\n",
      "2. ¿Cuál es el promedio de propiedades por usuario?\n",
      "    Rta: Cada usuario tiene en promedio 1 propiedad.\n",
      "\n",
      "3. ¿Cuál era la temperatura promedio de todas las visitas que realizó el usuario con ID 2?\n",
      "    Rta: La temperatura promedio de las visitas realizadas en la propiedad del usuario con ID 2 fue de 14.6°C.\n",
      "\n",
      "4. ¿Cuál es la temperatura promedio de las visitas para los días con lluvia?\n",
      "    Rta: La temperatura promedio de las visitas realizadas en días con lluvia fue de 14.2°C.\n",
      "\n",
      "5. ¿Cuál es la temperatura promedio para las visitas realizadas en la localidad de Suba?\n",
      "    Rta: La temperatura promedio de las visitas realizadas en la localidad de Suba es de 14.12°C.\n",
      "\n"
     ]
    }
   ],
   "source": [
    "\n",
    "print('1. ¿Cuántas visitas se realizaron en total?')\n",
    "q1 = len(df_master.query('status == \"Done\"'))\n",
    "q1_all = len(df_master)\n",
    "print(f'    Rta: Se realizaron {q1} visitas sobre un total de {q1_all} visitas programadas, es decir, se llevo a cabo el {round(q1*100/q1_all, 2)}% de las visitas programadas. \\n')\n",
    "\n",
    "print('2. ¿Cuál es el promedio de propiedades por usuario?')\n",
    "q2 = (df_users.groupby('user_id')['property_id'].count()).mean()\n",
    "q2_func = lambda x: \"propiedades\" if int(x)>1 else \"propiedad\"\n",
    "print(f'    Rta: Cada usuario tiene en promedio {int(q2)} {q2_func(q2)}.\\n')\n",
    "\n",
    "print('3. ¿Cuál era la temperatura promedio de todas las visitas que realizó el usuario con ID 2?')\n",
    "q3 = df_master.query('user_id == 2 and status == \"Done\"')['temperature'].mean()\n",
    "print(f'    Rta: La temperatura promedio de las visitas realizadas en la propiedad del usuario con ID 2 fue de {round(q3,2)}°C.\\n')\n",
    "\n",
    "print('4. ¿Cuál es la temperatura promedio de las visitas para los días con lluvia?')\n",
    "q4 = df_master.query('status == \"Done\" and rainy_day == True')['temperature'].mean()\n",
    "print(f'    Rta: La temperatura promedio de las visitas realizadas en días con lluvia fue de {round(q4,2)}°C.\\n')\n",
    "\n",
    "print('5. ¿Cuál es la temperatura promedio para las visitas realizadas en la localidad de Suba?')\n",
    "q5 = df_master.query('localidad == \"Suba\" and status == \"Done\"')['temperature'].mean()\n",
    "print(f'    Rta: La temperatura promedio de las visitas realizadas en la localidad de Suba es de {round(q5,2)}°C.\\n')\n"
   ]
  },
  {
   "cell_type": "markdown",
   "id": "7d9fc32f",
   "metadata": {},
   "source": [
    "## Additional analysis using SQL:"
   ]
  },
  {
   "cell_type": "code",
   "execution_count": 7,
   "id": "872ea3c9",
   "metadata": {},
   "outputs": [
    {
     "data": {
      "text/html": [
       "<div>\n",
       "<style scoped>\n",
       "    .dataframe tbody tr th:only-of-type {\n",
       "        vertical-align: middle;\n",
       "    }\n",
       "\n",
       "    .dataframe tbody tr th {\n",
       "        vertical-align: top;\n",
       "    }\n",
       "\n",
       "    .dataframe thead th {\n",
       "        text-align: right;\n",
       "    }\n",
       "</style>\n",
       "<table border=\"1\" class=\"dataframe\">\n",
       "  <thead>\n",
       "    <tr style=\"text-align: right;\">\n",
       "      <th></th>\n",
       "      <th>VISITS_STATUS</th>\n",
       "      <th>N_VISITS</th>\n",
       "      <th>PERCENTAGE_VISITS</th>\n",
       "      <th>TEMP_AVG</th>\n",
       "      <th>RAINY_DAYS</th>\n",
       "      <th>RAINY_DAY_PERCENTAGE</th>\n",
       "    </tr>\n",
       "  </thead>\n",
       "  <tbody>\n",
       "    <tr>\n",
       "      <th>0</th>\n",
       "      <td>Done</td>\n",
       "      <td>139</td>\n",
       "      <td>32.71</td>\n",
       "      <td>14.20</td>\n",
       "      <td>126</td>\n",
       "      <td>90.65</td>\n",
       "    </tr>\n",
       "    <tr>\n",
       "      <th>1</th>\n",
       "      <td>Cancelled</td>\n",
       "      <td>286</td>\n",
       "      <td>67.29</td>\n",
       "      <td>13.98</td>\n",
       "      <td>256</td>\n",
       "      <td>89.51</td>\n",
       "    </tr>\n",
       "  </tbody>\n",
       "</table>\n",
       "</div>"
      ],
      "text/plain": [
       "  VISITS_STATUS  N_VISITS  PERCENTAGE_VISITS  TEMP_AVG  RAINY_DAYS  \\\n",
       "0          Done       139              32.71     14.20         126   \n",
       "1     Cancelled       286              67.29     13.98         256   \n",
       "\n",
       "   RAINY_DAY_PERCENTAGE  \n",
       "0                 90.65  \n",
       "1                 89.51  "
      ]
     },
     "execution_count": 7,
     "metadata": {},
     "output_type": "execute_result"
    }
   ],
   "source": [
    "\n",
    "pysqldf = lambda q: sqldf(q, globals())\n",
    "\n",
    "query = \"\"\" \n",
    "        SELECT status AS VISITS_STATUS\n",
    "        ,COUNT(*) AS N_VISITS \n",
    "        ,ROUND( COUNT(*) * 100.0 / SUM(COUNT(*)) OVER() , 2) AS PERCENTAGE_VISITS\n",
    "        ,ROUND( AVG(temperature) , 2) AS TEMP_AVG\n",
    "        ,COUNT(*) FILTER (WHERE rainy_day) AS RAINY_DAYS\n",
    "        ,ROUND( (COUNT(*) FILTER (WHERE rainy_day)) * 100.0 / SUM(COUNT(*)) OVER(PARTITION BY status) , 2) AS RAINY_DAY_PERCENTAGE\n",
    "        FROM df_master \n",
    "        GROUP BY status\n",
    "        ORDER BY status DESC\n",
    "        \"\"\"\n",
    "\n",
    "pysqldf(query)\n"
   ]
  }
 ],
 "metadata": {
  "kernelspec": {
   "display_name": "Python 3 (ipykernel)",
   "language": "python",
   "name": "python3"
  },
  "language_info": {
   "codemirror_mode": {
    "name": "ipython",
    "version": 3
   },
   "file_extension": ".py",
   "mimetype": "text/x-python",
   "name": "python",
   "nbconvert_exporter": "python",
   "pygments_lexer": "ipython3",
   "version": "3.7.8"
  }
 },
 "nbformat": 4,
 "nbformat_minor": 5
}
